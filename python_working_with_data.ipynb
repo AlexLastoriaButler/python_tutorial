{
 "cells": [
  {
   "cell_type": "markdown",
   "id": "0cad7d17-2626-4485-b3c0-25de6b4179bd",
   "metadata": {
    "editable": true,
    "slideshow": {
     "slide_type": ""
    },
    "tags": []
   },
   "source": [
    "# 2 Data in Python"
   ]
  },
  {
   "cell_type": "markdown",
   "id": "18139df2-cd75-4132-af49-1c9c321c935d",
   "metadata": {
    "editable": true,
    "slideshow": {
     "slide_type": ""
    },
    "tags": []
   },
   "source": [
    "It is recommended that the [Pandas](https://pandas.pydata.org/docs/user_guide/index.html) library is used when working with data in Python."
   ]
  },
  {
   "cell_type": "markdown",
   "id": "0529b15c-b5c6-43a9-a631-4e51af2ff0c9",
   "metadata": {
    "editable": true,
    "slideshow": {
     "slide_type": ""
    },
    "tags": []
   },
   "source": [
    "## 2.1 Setting up Pandas\n",
    "If Pandas is not already installed, it can be done so via the command line or an IDE console"
   ]
  },
  {
   "cell_type": "code",
   "execution_count": null,
   "id": "8528f0b6-86af-4a19-bd94-6ba444964cca",
   "metadata": {
    "editable": true,
    "slideshow": {
     "slide_type": ""
    },
    "tags": []
   },
   "outputs": [],
   "source": [
    "pip install pandas"
   ]
  },
  {
   "cell_type": "markdown",
   "id": "95c22dd6-2cc2-4c73-b464-5102346d6883",
   "metadata": {
    "editable": true,
    "slideshow": {
     "slide_type": ""
    },
    "tags": []
   },
   "source": [
    "or"
   ]
  },
  {
   "cell_type": "code",
   "execution_count": null,
   "id": "9350f56b-f8cd-4907-b8c2-7974b5010f1c",
   "metadata": {
    "editable": true,
    "slideshow": {
     "slide_type": ""
    },
    "tags": []
   },
   "outputs": [],
   "source": [
    "py -x.xx -m pip install pandas\n",
    "# where x.xx is the Python version"
   ]
  },
  {
   "cell_type": "code",
   "execution_count": null,
   "id": "7eb9f8c3-cd96-4f87-963e-6d1ddab657b7",
   "metadata": {
    "editable": true,
    "slideshow": {
     "slide_type": ""
    },
    "tags": []
   },
   "outputs": [],
   "source": [
    "# To import the pandas library to use in code\n",
    "import pandas as pd"
   ]
  },
  {
   "cell_type": "markdown",
   "id": "08c6607f-6645-490e-b61b-ea6c098ca664",
   "metadata": {
    "editable": true,
    "slideshow": {
     "slide_type": ""
    },
    "tags": []
   },
   "source": [
    "## 2.2 Extract data from an external file into a DataFrame"
   ]
  },
  {
   "cell_type": "code",
   "execution_count": null,
   "id": "36cd3c1f-0c2c-447a-9036-89e9c73f2169",
   "metadata": {
    "editable": true,
    "slideshow": {
     "slide_type": ""
    },
    "tags": []
   },
   "outputs": [],
   "source": [
    "# Read data from a CSV file into a DataFrame\n",
    "df = pd.read_csv('./data/csv_file.csv')"
   ]
  },
  {
   "cell_type": "markdown",
   "id": "a3805ae6-ff24-4b1a-b302-4625fb63559e",
   "metadata": {
    "editable": true,
    "slideshow": {
     "slide_type": ""
    },
    "tags": []
   },
   "source": [
    "### 2.3 View data in a dataframe"
   ]
  },
  {
   "cell_type": "code",
   "execution_count": null,
   "id": "af2b6f74-4e22-4900-a86e-6aa1dd92f04d",
   "metadata": {
    "editable": true,
    "slideshow": {
     "slide_type": ""
    },
    "tags": []
   },
   "outputs": [],
   "source": [
    "print(df.head()) # Default is 5 rows\n",
    "# Note that Pandas is 0 indexed, rows start at 0\n",
    "\n",
    "print(df.head(3))"
   ]
  },
  {
   "cell_type": "markdown",
   "id": "e533a22a-15cb-4799-82ba-b1f5e49f7f30",
   "metadata": {
    "editable": true,
    "slideshow": {
     "slide_type": ""
    },
    "tags": []
   },
   "source": [
    "## 2.4 Extract data from a SQL database into a DataFrame"
   ]
  },
  {
   "cell_type": "code",
   "execution_count": null,
   "id": "4b8a120b-6794-47d4-80b2-688d7d557c42",
   "metadata": {
    "editable": true,
    "slideshow": {
     "slide_type": ""
    },
    "tags": []
   },
   "outputs": [],
   "source": [
    "import pandas as pd\n",
    "import sqlite3\n",
    "\n",
    "# Connect to the database\n",
    "conn = sqlite3.connect('your_database.db')\n",
    "\n",
    "# Query data into a DataFrame\n",
    "query = \"SELECT * FROM your_table_name\"\n",
    "df = pd.read_sql_query(query, conn)\n",
    "\n",
    "# Replace 'your_database.db' with your database file and 'your_table_name' with your table name."
   ]
  },
  {
   "cell_type": "markdown",
   "id": "abc26f37-9cb9-4b0c-8f00-ad18e60b897a",
   "metadata": {
    "editable": true,
    "slideshow": {
     "slide_type": ""
    },
    "tags": []
   },
   "source": [
    "## 2.5 Limit the variables (columns) in your DataFrame"
   ]
  },
  {
   "cell_type": "code",
   "execution_count": null,
   "id": "5c3ff42c-f238-42d0-8e7d-1baadd6c7a6b",
   "metadata": {
    "editable": true,
    "slideshow": {
     "slide_type": ""
    },
    "tags": []
   },
   "outputs": [],
   "source": [
    "# To keep specific columns\n",
    "columns_to_keep = ['column1', 'column2']\n",
    "df = df[columns_to_keep]\n",
    "\n",
    "# To drop specific columns\n",
    "columns_to_drop = ['column_to_drop1', 'column_to_drop2']\n",
    "df = df.drop(columns=columns_to_drop)"
   ]
  },
  {
   "cell_type": "markdown",
   "id": "f1147da2-a58d-4f37-a3d3-30d871ce1980",
   "metadata": {
    "editable": true,
    "slideshow": {
     "slide_type": ""
    },
    "tags": []
   },
   "source": [
    "## 2.6 Import just the top n rows"
   ]
  },
  {
   "cell_type": "code",
   "execution_count": null,
   "id": "7bc3605d-56f6-4009-b6bd-6a9c20586111",
   "metadata": {
    "editable": true,
    "slideshow": {
     "slide_type": ""
    },
    "tags": []
   },
   "outputs": [],
   "source": [
    "# Specify the path to your CSV file\n",
    "csv_file_path = 'your_file.csv'\n",
    "\n",
    "# Use the 'read_csv' function to read the CSV file\n",
    "# Use the 'nrows' parameter to specify the number of rows to read (in this case, 10)\n",
    "df = pd.read_csv(csv_file_path, nrows=10)\n",
    "\n",
    "# Print the first 10 rows\n",
    "print(df)"
   ]
  },
  {
   "cell_type": "markdown",
   "id": "92a92fd5-6d79-4cf7-8fcc-fb7dd54400f3",
   "metadata": {
    "editable": true,
    "slideshow": {
     "slide_type": ""
    },
    "tags": []
   },
   "source": [
    "## 2.7 Import specific columns"
   ]
  },
  {
   "cell_type": "code",
   "execution_count": null,
   "id": "fded2aaf-3b9a-410f-9d37-931377972ea4",
   "metadata": {
    "editable": true,
    "slideshow": {
     "slide_type": ""
    },
    "tags": []
   },
   "outputs": [],
   "source": [
    "# Specify the columns you want to read\n",
    "columns_to_read = ['Column1', 'Column2', 'Column3']\n",
    "\n",
    "# Read the CSV file with only the specified columns\n",
    "df = pd.read_csv('your_file.csv', usecols=columns_to_read)"
   ]
  },
  {
   "cell_type": "markdown",
   "id": "85e9180c-a3c5-4f86-9e3b-2643ec6146e9",
   "metadata": {
    "editable": true,
    "slideshow": {
     "slide_type": ""
    },
    "tags": []
   },
   "source": [
    "## 2.8 View data types of DataFrame columns"
   ]
  },
  {
   "cell_type": "code",
   "execution_count": null,
   "id": "5a184f49-50d9-4f3e-a9e5-96fdd717d96d",
   "metadata": {
    "editable": true,
    "slideshow": {
     "slide_type": ""
    },
    "tags": []
   },
   "outputs": [],
   "source": [
    "# To see data types of all columns\n",
    "print(df.dtypes)\n",
    "\n",
    "# To get the data type of a specific column (e.g., 'column1')\n",
    "print(df['column1'].dtype)"
   ]
  },
  {
   "cell_type": "markdown",
   "id": "3933dc6b-8af7-4d87-b22b-d382602d3b83",
   "metadata": {
    "editable": true,
    "slideshow": {
     "slide_type": ""
    },
    "tags": []
   },
   "source": [
    "## 2.9 Combine tables vertically and horizontally"
   ]
  },
  {
   "cell_type": "code",
   "execution_count": null,
   "id": "db62e455-34de-409e-a7de-2ad657f8ee82",
   "metadata": {
    "editable": true,
    "slideshow": {
     "slide_type": ""
    },
    "tags": []
   },
   "outputs": [],
   "source": [
    "# Vertical concatenation (stacking rows)\n",
    "result_vertical = pd.concat([df1, df2])\n",
    "\n",
    "# Horizontal concatenation (not join, appended horizontally)\n",
    "result_horizontal = pd.concat([df1, df2], axis=1)"
   ]
  },
  {
   "cell_type": "markdown",
   "id": "e3727c6a-cc79-4a02-ba10-03e43050c774",
   "metadata": {
    "editable": true,
    "slideshow": {
     "slide_type": ""
    },
    "tags": []
   },
   "source": [
    "## 2.10 Perform left joins, right joins, and full joins"
   ]
  },
  {
   "cell_type": "code",
   "execution_count": null,
   "id": "4e94ac50-3e46-410e-9cda-8dd3b58fbefa",
   "metadata": {
    "editable": true,
    "slideshow": {
     "slide_type": ""
    },
    "tags": []
   },
   "outputs": [],
   "source": [
    "# Left join\n",
    "result_left = pd.merge(df1, df2, on='common_column', how='left')\n",
    "\n",
    "# Right join\n",
    "result_right = pd.merge(df1, df2, on='common_column', how='right')\n",
    "\n",
    "# Full join (outer join)\n",
    "result_full = pd.merge(df1, df2, on='common_column', how='outer')\n",
    "\n",
    "\n",
    "# Join on multiple columns\n",
    "df1 = pd.DataFrame({\n",
    "    'key1': ['A', 'B', 'C', 'D'],\n",
    "    'key2': ['X', 'Y', 'Z', 'W'],\n",
    "    'value1': [1, 2, 3, 4]\n",
    "})\n",
    "\n",
    "df2 = pd.DataFrame({\n",
    "    'key1': ['B', 'A', 'C', 'E'],\n",
    "    'key2': ['Y', 'X', 'Z', 'V'],\n",
    "    'value2': [5, 6, 7, 8]\n",
    "})\n",
    "\n",
    "# Join on multiple specific columns (key1 and key2)\n",
    "result = pd.merge(df1, df2, on=['key1', 'key2'])"
   ]
  },
  {
   "cell_type": "markdown",
   "id": "5304efc8-90e3-48f8-a090-794138ef4b48",
   "metadata": {
    "editable": true,
    "slideshow": {
     "slide_type": ""
    },
    "tags": []
   },
   "source": [
    "## 2.11 Output a DataFrame"
   ]
  },
  {
   "cell_type": "code",
   "execution_count": null,
   "id": "c4acd41b-86cd-4900-ab82-cd26697ec672",
   "metadata": {
    "editable": true,
    "slideshow": {
     "slide_type": ""
    },
    "tags": []
   },
   "outputs": [],
   "source": [
    "# To save the DataFrame to a CSV file\n",
    "result.to_csv('output_file.csv', index=False)\n",
    "\n",
    "# Replace 'output_file.csv' with the desired file name and path.\n",
    "\n",
    "# index=False omits the row numbers from the output"
   ]
  }
 ],
 "metadata": {
  "kernelspec": {
   "display_name": "Python 3 (ipykernel)",
   "language": "python",
   "name": "python3"
  },
  "language_info": {
   "codemirror_mode": {
    "name": "ipython",
    "version": 3
   },
   "file_extension": ".py",
   "mimetype": "text/x-python",
   "name": "python",
   "nbconvert_exporter": "python",
   "pygments_lexer": "ipython3",
   "version": "3.11.5"
  }
 },
 "nbformat": 4,
 "nbformat_minor": 5
}
