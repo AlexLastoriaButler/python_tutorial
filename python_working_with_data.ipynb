{
 "cells": [
  {
   "cell_type": "markdown",
   "id": "0cad7d17-2626-4485-b3c0-25de6b4179bd",
   "metadata": {
    "editable": true,
    "slideshow": {
     "slide_type": ""
    },
    "tags": []
   },
   "source": [
    "# Data in Python"
   ]
  },
  {
   "cell_type": "markdown",
   "id": "18139df2-cd75-4132-af49-1c9c321c935d",
   "metadata": {
    "editable": true,
    "slideshow": {
     "slide_type": ""
    },
    "tags": []
   },
   "source": [
    "It is recommended that the [Pandas](https://pandas.pydata.org/docs/user_guide/index.html) library is used when working with data in Python."
   ]
  },
  {
   "cell_type": "markdown",
   "id": "08c6607f-6645-490e-b61b-ea6c098ca664",
   "metadata": {
    "editable": true,
    "slideshow": {
     "slide_type": ""
    },
    "tags": []
   },
   "source": [
    "Extract data from an external file into a DataFrame:"
   ]
  },
  {
   "cell_type": "code",
   "execution_count": 9,
   "id": "36cd3c1f-0c2c-447a-9036-89e9c73f2169",
   "metadata": {
    "editable": true,
    "slideshow": {
     "slide_type": ""
    },
    "tags": []
   },
   "outputs": [],
   "source": [
    "import pandas as pd\n",
    "\n",
    "# Read data from a CSV file into a DataFrame\n",
    "df = pd.read_csv('csv_file.csv')"
   ]
  },
  {
   "cell_type": "markdown",
   "id": "a3805ae6-ff24-4b1a-b302-4625fb63559e",
   "metadata": {
    "editable": true,
    "slideshow": {
     "slide_type": ""
    },
    "tags": []
   },
   "source": [
    "View data in a dataframe"
   ]
  },
  {
   "cell_type": "code",
   "execution_count": 13,
   "id": "af2b6f74-4e22-4900-a86e-6aa1dd92f04d",
   "metadata": {
    "collapsed": true,
    "editable": true,
    "jupyter": {
     "outputs_hidden": true
    },
    "slideshow": {
     "slide_type": ""
    },
    "tags": []
   },
   "outputs": [
    {
     "name": "stdout",
     "output_type": "stream",
     "text": [
      "                                            Customer        Contact Name   ID  \\\n",
      "0   Eldon Base for stackable storage shelf, platinum  Muhammed MacIntyre    3   \n",
      "1  1.7 Cubic Foot Compact \"Cube\" Office Refrigera...        Barry French  293   \n",
      "2   Cardinal Slant-D® Ring Binder, Heavy Gauge Vinyl        Barry French  293   \n",
      "3                                               R380       Clay Rozendal  483   \n",
      "4                           Holmes HEPA Air Purifier      Carlos Soltero  515   \n",
      "\n",
      "  Supplier                         Product  Value  \n",
      "0  Nunavut          Storage & Organization   0.80  \n",
      "1  Nunavut                      Appliances   0.58  \n",
      "2  Nunavut  Binders and Binder Accessories   0.39  \n",
      "3  Nunavut    Telephones and Communication   0.58  \n",
      "4  Nunavut                      Appliances   0.50  \n",
      "                                            Customer        Contact Name   ID  \\\n",
      "0   Eldon Base for stackable storage shelf, platinum  Muhammed MacIntyre    3   \n",
      "1  1.7 Cubic Foot Compact \"Cube\" Office Refrigera...        Barry French  293   \n",
      "2   Cardinal Slant-D® Ring Binder, Heavy Gauge Vinyl        Barry French  293   \n",
      "\n",
      "  Supplier                         Product  Value  \n",
      "0  Nunavut          Storage & Organization   0.80  \n",
      "1  Nunavut                      Appliances   0.58  \n",
      "2  Nunavut  Binders and Binder Accessories   0.39  \n"
     ]
    }
   ],
   "source": [
    "print(df.head()) # Default is 5 row\n",
    "# Note that Pandas is 0 indexed, rows start at 0\n",
    "\n",
    "print(df.head(3))"
   ]
  },
  {
   "cell_type": "markdown",
   "id": "e533a22a-15cb-4799-82ba-b1f5e49f7f30",
   "metadata": {
    "editable": true,
    "slideshow": {
     "slide_type": ""
    },
    "tags": []
   },
   "source": [
    "Extract data from a SQL database into a DataFrame"
   ]
  },
  {
   "cell_type": "code",
   "execution_count": null,
   "id": "4b8a120b-6794-47d4-80b2-688d7d557c42",
   "metadata": {
    "editable": true,
    "slideshow": {
     "slide_type": ""
    },
    "tags": []
   },
   "outputs": [],
   "source": [
    "import pandas as pd\n",
    "import sqlite3\n",
    "\n",
    "# Connect to the database\n",
    "conn = sqlite3.connect('your_database.db')\n",
    "\n",
    "# Query data into a DataFrame\n",
    "query = \"SELECT * FROM your_table_name\"\n",
    "df = pd.read_sql_query(query, conn)\n",
    "\n",
    "# Replace 'your_database.db' with your database file and 'your_table_name' with your table name."
   ]
  },
  {
   "cell_type": "markdown",
   "id": "abc26f37-9cb9-4b0c-8f00-ad18e60b897a",
   "metadata": {
    "editable": true,
    "slideshow": {
     "slide_type": ""
    },
    "tags": []
   },
   "source": [
    "Limit the variables (columns) in your DataFrame"
   ]
  },
  {
   "cell_type": "code",
   "execution_count": null,
   "id": "5c3ff42c-f238-42d0-8e7d-1baadd6c7a6b",
   "metadata": {
    "editable": true,
    "slideshow": {
     "slide_type": ""
    },
    "tags": []
   },
   "outputs": [],
   "source": [
    "# To keep specific columns\n",
    "columns_to_keep = ['column1', 'column2']\n",
    "df = df[columns_to_keep]\n",
    "\n",
    "# To drop specific columns\n",
    "columns_to_drop = ['column_to_drop1', 'column_to_drop2']\n",
    "df = df.drop(columns=columns_to_drop)"
   ]
  },
  {
   "cell_type": "code",
   "execution_count": 14,
   "id": "e256ddbc-695c-4e4d-9cdc-a2611565543a",
   "metadata": {
    "editable": true,
    "slideshow": {
     "slide_type": ""
    },
    "tags": []
   },
   "outputs": [
    {
     "ename": "SyntaxError",
     "evalue": "invalid syntax (1617237514.py, line 1)",
     "output_type": "error",
     "traceback": [
      "\u001b[1;36m  Cell \u001b[1;32mIn[14], line 1\u001b[1;36m\u001b[0m\n\u001b[1;33m    <details>\u001b[0m\n\u001b[1;37m    ^\u001b[0m\n\u001b[1;31mSyntaxError\u001b[0m\u001b[1;31m:\u001b[0m invalid syntax\n"
     ]
    }
   ],
   "source": []
  },
  {
   "cell_type": "code",
   "execution_count": null,
   "id": "cba03238-82ae-4e86-857d-1065f20b8097",
   "metadata": {
    "editable": true,
    "slideshow": {
     "slide_type": ""
    },
    "tags": []
   },
   "outputs": [],
   "source": []
  }
 ],
 "metadata": {
  "kernelspec": {
   "display_name": "Python 3 (ipykernel)",
   "language": "python",
   "name": "python3"
  },
  "language_info": {
   "codemirror_mode": {
    "name": "ipython",
    "version": 3
   },
   "file_extension": ".py",
   "mimetype": "text/x-python",
   "name": "python",
   "nbconvert_exporter": "python",
   "pygments_lexer": "ipython3",
   "version": "3.11.5"
  }
 },
 "nbformat": 4,
 "nbformat_minor": 5
}
