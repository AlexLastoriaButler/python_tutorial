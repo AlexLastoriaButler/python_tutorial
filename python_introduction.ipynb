{
 "cells": [
  {
   "cell_type": "markdown",
   "id": "9e5ce2e6-7614-403a-b1ba-721b0bef0a9e",
   "metadata": {
    "editable": true,
    "slideshow": {
     "slide_type": ""
    },
    "tags": []
   },
   "source": [
    "# Python \n",
    "## Introduction\n",
    "\n",
    "### 1.1 What is Python?\n",
    "Python is a high-level, interpreted programming language known for its readability and simplicity. It's widely used in data analysis, web development, artificial intelligence, and more.\n",
    "### 1.2 Installing Python\n",
    "Before we begin, make sure you have Python installed on your computer. You can download it from Python's official website."
   ]
  },
  {
   "cell_type": "markdown",
   "id": "b7d79c52-599c-448e-b1ea-41acc47719c5",
   "metadata": {
    "editable": true,
    "slideshow": {
     "slide_type": ""
    },
    "tags": []
   },
   "source": [
    "### 1.3 Your First Python Program\n",
    "Open a text editor (like Notepad) and create a new file with the extension .py. Let's write your first Python program:"
   ]
  },
  {
   "cell_type": "code",
   "execution_count": null,
   "id": "f2d71d14-efb1-4b5a-9cba-7f7d0e7ec8bb",
   "metadata": {
    "editable": true,
    "slideshow": {
     "slide_type": ""
    },
    "tags": []
   },
   "outputs": [],
   "source": [
    "# This is a comment \n",
    "print(\"Hello, world!\")"
   ]
  },
  {
   "cell_type": "markdown",
   "id": "bb521a86-7d75-4102-974d-c06e95d59502",
   "metadata": {
    "editable": true,
    "slideshow": {
     "slide_type": ""
    },
    "tags": []
   },
   "source": [
    "Save the file and run it using the command python filename.py in your terminal."
   ]
  },
  {
   "cell_type": "markdown",
   "id": "f04bb971-78ba-4690-a615-7fd97a1a137e",
   "metadata": {
    "editable": true,
    "slideshow": {
     "slide_type": ""
    },
    "tags": []
   },
   "source": [
    "### 1.4 Variables and Data Types\n",
    "In Python, you can store data in variables. Python supports various data types:\n",
    "- int: Integer\n",
    "- float: Floating-point number\n",
    "- str: String\n",
    "- bool: Boolean (True or False)"
   ]
  },
  {
   "cell_type": "code",
   "execution_count": 7,
   "id": "be58a2ea-c70a-4d37-bf63-5b768b1e4324",
   "metadata": {
    "editable": true,
    "slideshow": {
     "slide_type": ""
    },
    "tags": []
   },
   "outputs": [],
   "source": [
    "age = 25 \n",
    "name = \"Alice\" \n",
    "is_student = True"
   ]
  },
  {
   "cell_type": "markdown",
   "id": "d3881079-e579-4ad0-83b4-6d04e249586a",
   "metadata": {
    "editable": true,
    "slideshow": {
     "slide_type": ""
    },
    "tags": []
   },
   "source": [
    "### 1.5 Basic Operations"
   ]
  },
  {
   "cell_type": "code",
   "execution_count": 6,
   "id": "fea0fb26-d3a1-41f3-b565-995a8ba98666",
   "metadata": {
    "editable": true,
    "slideshow": {
     "slide_type": ""
    },
    "tags": []
   },
   "outputs": [],
   "source": [
    "# Arithmetic operations \n",
    "result = 5 + 3 \n",
    "difference = 10 - 2 \n",
    "product = 4 * 7 \n",
    "quotient = 20 / 5 \n",
    "\n",
    "# Modulus (remainder) \n",
    "remainder = 11 % 3 \n",
    "\n",
    "# Exponentiation \n",
    "power = 2 ** 3"
   ]
  },
  {
   "cell_type": "markdown",
   "id": "bf735d1d-9a0c-4da2-83a2-72b6186f3c24",
   "metadata": {
    "editable": true,
    "slideshow": {
     "slide_type": ""
    },
    "tags": []
   },
   "source": [
    "### 1.6 Conditional Statements (IF THEN ELSE)\n",
    "Use if, elif, and else to make decisions in your code:"
   ]
  },
  {
   "cell_type": "code",
   "execution_count": null,
   "id": "421c6cad-e33e-4c0c-b449-94a237af290a",
   "metadata": {
    "editable": true,
    "slideshow": {
     "slide_type": ""
    },
    "tags": []
   },
   "outputs": [],
   "source": [
    "score = 87\n",
    "\n",
    "if age < 80: \n",
    "    print(\"Below required score\") \n",
    "elif age == 80: \n",
    "    print(\"Meets requirement\") \n",
    "else: \n",
    "    print(\"Exceeds required score\")"
   ]
  },
  {
   "cell_type": "markdown",
   "id": "ed49d060-521b-4af8-be34-8b47a67d3fa5",
   "metadata": {
    "editable": true,
    "slideshow": {
     "slide_type": ""
    },
    "tags": []
   },
   "source": [
    "Note the indenting after each condition, this is a PEP-81 standard. Most IDE’s will warn you if indentation is used incorrectly or inconsistently."
   ]
  },
  {
   "cell_type": "markdown",
   "id": "e94a4916-bd58-48ed-9eb1-546f5ef4ddbf",
   "metadata": {
    "editable": true,
    "slideshow": {
     "slide_type": ""
    },
    "tags": []
   },
   "source": [
    "### 1.7 Loops"
   ]
  },
  {
   "cell_type": "code",
   "execution_count": 5,
   "id": "40e7f4f0-aaa4-4510-a116-e3c331cd516c",
   "metadata": {
    "editable": true,
    "slideshow": {
     "slide_type": ""
    },
    "tags": []
   },
   "outputs": [
    {
     "name": "stdout",
     "output_type": "stream",
     "text": [
      "0\n",
      "1\n",
      "2\n",
      "3\n",
      "4\n",
      "a\n",
      "b\n",
      "c\n",
      "0\n",
      "1\n",
      "2\n",
      "3\n",
      "4\n"
     ]
    }
   ],
   "source": [
    "# For loop \n",
    "for i in range(5): \n",
    "    print(i) \n",
    "\n",
    "# For loop using a list\n",
    "list = [\"a\", \"b\", \"c\"]\n",
    "for i in list: \n",
    "    print(i) \n",
    "\n",
    "# While loop \n",
    "count = 0 \n",
    "while count < 5: \n",
    "    print(count) \n",
    "    count += 1"
   ]
  },
  {
   "cell_type": "markdown",
   "id": "7e1f6816-bebc-4c4a-bfed-7f4a5bad4967",
   "metadata": {
    "editable": true,
    "slideshow": {
     "slide_type": ""
    },
    "tags": []
   },
   "source": [
    "### Exercises\n",
    "- Write a Python program that calculates the area of a rectangle with a length of 6 and width of 4.5\n",
    "- Create a program that checks if a number is even or odd\n",
    "- Write a loop that prints the first 10 even numbers (starting from 2)\n",
    "- Develop a simple calculator program that can add, subtract, multiply, and divide two numbers based on user input"
   ]
  },
  {
   "cell_type": "code",
   "execution_count": null,
   "id": "d916661a-c75f-4874-ad25-cbbaad8d7bd8",
   "metadata": {
    "editable": true,
    "slideshow": {
     "slide_type": ""
    },
    "tags": []
   },
   "outputs": [],
   "source": []
  }
 ],
 "metadata": {
  "kernelspec": {
   "display_name": "Python 3 (ipykernel)",
   "language": "python",
   "name": "python3"
  },
  "language_info": {
   "codemirror_mode": {
    "name": "ipython",
    "version": 3
   },
   "file_extension": ".py",
   "mimetype": "text/x-python",
   "name": "python",
   "nbconvert_exporter": "python",
   "pygments_lexer": "ipython3",
   "version": "3.11.5"
  }
 },
 "nbformat": 4,
 "nbformat_minor": 5
}
